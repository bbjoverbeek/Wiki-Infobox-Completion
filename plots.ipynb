{
 "cells": [
  {
   "cell_type": "code",
   "execution_count": 2,
   "metadata": {},
   "outputs": [
    {
     "name": "stderr",
     "output_type": "stream",
     "text": [
      "100%|██████████| 831/831 [00:00<00:00, 11480.83it/s]\n"
     ]
    },
    {
     "name": "stdout",
     "output_type": "stream",
     "text": [
      "{1: 188, 2: 32, 3: 26, 4: 17, 5: 8, 6: 6, 7: 10, 8: 5, 9: 6, 10: 8, 11: 5, 12: 7, 13: 4, 14: 4, 15: 4, 16: 5, 17: 5, 18: 1, 19: 6, 20: 0, 21: 1, 22: 4, 23: 2, 24: 5, 25: 1, 26: 2, 27: 1, 28: 3, 29: 4, 30: 1, 31: 3, 32: 2, 33: 1, 34: 3, 35: 0, 36: 4, 37: 2, 38: 2, 39: 3, 40: 4, 41: 4, 42: 5, 43: 0, 44: 1, 45: 2, 46: 1, 47: 2, 48: 1, 49: 1, 50: 1, 51: 1, 52: 2, 53: 2, 54: 0, 55: 2, 56: 5, 57: 0, 58: 1, 59: 3, 60: 1, 61: 1, 62: 1, 63: 2, 64: 3, 65: 0, 66: 1, 67: 3, 68: 0, 69: 1, 70: 1, 71: 0, 72: 1, 73: 1, 74: 1, 75: 2, 76: 2, 77: 2, 78: 1, 79: 1, 80: 2, 81: 1, 82: 0, 83: 2, 84: 2, 85: 1, 86: 0, 87: 3, 88: 0, 89: 1, 90: 0, 91: 2, 92: 1, 93: 0, 94: 0, 95: 0, 96: 1, 97: 0, 98: 2, 99: 1, 100: 1, 101: 1, 102: 0, 103: 2, 104: 2, 105: 0, 106: 0, 107: 1, 108: 0, 109: 3, 110: 2, 111: 2, 112: 0, 113: 1, 114: 2, 115: 3, 116: 0, 117: 2, 118: 1, 119: 1, 120: 0, 121: 4, 122: 1, 123: 3, 124: 1, 125: 0, 126: 0, 127: 0, 128: 0, 129: 0, 130: 0, 131: 0, 132: 1, 133: 1, 134: 0, 135: 1, 136: 0, 137: 0, 138: 1, 139: 2, 140: 1, 141: 1, 142: 0, 143: 1, 144: 1, 145: 0, 146: 1, 147: 1, 148: 1, 149: 0, 150: 0, 151: 0, 152: 2, 153: 2, 154: 1, 155: 0, 156: 1, 157: 3, 158: 2, 159: 0, 160: 0, 161: 0, 162: 2, 163: 1, 164: 1, 165: 0, 166: 2, 167: 0, 168: 0, 169: 2, 170: 0, 171: 2, 172: 1, 173: 2, 174: 0, 175: 0, 176: 0, 177: 2, 178: 1, 179: 0, 180: 1, 181: 2, 182: 2, 183: 0, 184: 1, 185: 2, 186: 0, 187: 1, 188: 1, 189: 1, 190: 0, 191: 0, 192: 1, 193: 2, 194: 0, 195: 1, 196: 0, 197: 0, 198: 1, 199: 2, 200: 2, 201: 0, 202: 0, 203: 1, 204: 1, 205: 1, 206: 1, 207: 0, 208: 1, 209: 3, 210: 0, 211: 3, 212: 2, 213: 2, 214: 0, 215: 2, 216: 0, 217: 0, 218: 0, 219: 3, 220: 0, 221: 0, 222: 0, 223: 3, 224: 1, 225: 0, 226: 1, 227: 0, 228: 1, 229: 0, 230: 0, 231: 0, 232: 0, 233: 0, 234: 1, 235: 0, 236: 0, 237: 0, 238: 0, 239: 0, 240: 0, 241: 0, 242: 1, 243: 2, 244: 1, 245: 1, 246: 0, 247: 0, 248: 1, 249: 2, 250: 0, 251: 0, 252: 0, 253: 1, 254: 1, 255: 3, 256: 0, 257: 0, 258: 3, 259: 2, 260: 0, 261: 1, 262: 1, 263: 0, 264: 1, 265: 1, 266: 0, 267: 0, 268: 2, 269: 0, 270: 0, 271: 1, 272: 0, 273: 2, 274: 2, 275: 0, 276: 0, 277: 0, 278: 0, 279: 1, 280: 3, 281: 0, 282: 0, 283: 0, 284: 2, 285: 0, 286: 1, 287: 2, 288: 0, 289: 1, 290: 1, 291: 0, 292: 0, 293: 1, 294: 0, 295: 0, 296: 1, 297: 0, 298: 0, 299: 1, 300: 0, 301: 0, 302: 1, 303: 1, 304: 1, 305: 1, 306: 1, 307: 1, 308: 0, 309: 1, 310: 1, 311: 0, 312: 1, 313: 1, 314: 0, 315: 0, 316: 1, 317: 0, 318: 0, 319: 1, 320: 1, 321: 0, 322: 0, 323: 2, 324: 0, 325: 0, 326: 0, 327: 3, 328: 0, 329: 0, 330: 0, 331: 2, 332: 2, 333: 0, 334: 0, 335: 0, 336: 0, 337: 0, 338: 0, 339: 0, 340: 0, 341: 2, 342: 0, 343: 0, 344: 1, 345: 1, 346: 1, 347: 0, 348: 1, 349: 0, 350: 0, 351: 0, 352: 1, 353: 1, 354: 1, 355: 0, 356: 0, 357: 0, 358: 0, 359: 1, 360: 0, 361: 1, 362: 2, 363: 2, 364: 0, 365: 1, 366: 1, 367: 1, 368: 0, 369: 0, 370: 1, 371: 5, 372: 3, 373: 4, 374: 1, 375: 1, 376: 0, 377: 0, 378: 0, 379: 0, 380: 3, 381: 0, 382: 1, 383: 0, 384: 0, 385: 1, 386: 0, 387: 0, 388: 0, 389: 0, 390: 0, 391: 1, 392: 0, 393: 2, 394: 0, 395: 0, 396: 0, 397: 1, 398: 0, 399: 0, 400: 0, 401: 0, 402: 0, 403: 0, 404: 0, 405: 0, 406: 0, 407: 0, 408: 0, 409: 0, 410: 0, 411: 1, 412: 1, 413: 2, 414: 1, 415: 0, 416: 1, 417: 1, 418: 1, 419: 2, 420: 0, 421: 1, 422: 0, 423: 3, 424: 0, 425: 0, 426: 0, 427: 0, 428: 0, 429: 0, 430: 1, 431: 0, 432: 0, 433: 0, 434: 0, 435: 0, 436: 0, 437: 0, 438: 0, 439: 0, 440: 1, 441: 3, 442: 1, 443: 0, 444: 0, 445: 0, 446: 2, 447: 1, 448: 0, 449: 0, 450: 0, 451: 0, 452: 0, 453: 0, 454: 0, 455: 0, 456: 0, 457: 0, 458: 1, 459: 0, 460: 0, 461: 1, 462: 1, 463: 0, 464: 0, 465: 0, 466: 0, 467: 1, 468: 1, 469: 2, 470: 1, 471: 0, 472: 0, 473: 0, 474: 2, 475: 0, 476: 1, 477: 0, 478: 0, 479: 0, 480: 1, 481: 1, 482: 1, 483: 1, 484: 0, 485: 0, 486: 0, 487: 2, 488: 1, 489: 0, 490: 0, 491: 2, 492: 1, 493: 0, 494: 1, 495: 2, 496: 0, 497: 0, 498: 0, 499: 0, 500: 0, 501: 1, 502: 0, 503: 0, 504: 0, 505: 1, 506: 0, 507: 1, 508: 0, 509: 1, 510: 2, 511: 1, 512: 0, 513: 1, 514: 0, 515: 0, 516: 1, 517: 2, 518: 0, 519: 0, 520: 0, 521: 0, 522: 0, 523: 0, 524: 0, 525: 0, 526: 0, 527: 1, 528: 0, 529: 1, 530: 0, 531: 0, 532: 0, 533: 0, 534: 0, 535: 1, 536: 0, 537: 0, 538: 2, 539: 0, 540: 0, 541: 1, 542: 0, 543: 1, 544: 0, 545: 0, 546: 1, 547: 0, 548: 1, 549: 0, 550: 0, 551: 0, 552: 0, 553: 1, 554: 0, 555: 0, 556: 0, 557: 1, 558: 0, 559: 1, 560: 0, 561: 0, 562: 0, 563: 0, 564: 0, 565: 0, 566: 1, 567: 0, 568: 0, 569: 0, 570: 0, 571: 1, 572: 0, 573: 0, 574: 0, 575: 0, 576: 1, 577: 0, 578: 0, 579: 0, 580: 1, 581: 0, 582: 0, 583: 0, 584: 2, 585: 2, 586: 1, 587: 0, 588: 0, 589: 0, 590: 1, 591: 0, 592: 1, 593: 0, 594: 2, 595: 0, 596: 0, 597: 0, 598: 1, 599: 1, 600: 0, 601: 0, 602: 0, 603: 0, 604: 0, 605: 0, 606: 1, 607: 0, 608: 1, 609: 0, 610: 0, 611: 0, 612: 0, 613: 0, 614: 0, 615: 0, 616: 0, 617: 0, 618: 0, 619: 0, 620: 1, 621: 0, 622: 2, 623: 0, 624: 0, 625: 0, 626: 1, 627: 0, 628: 0, 629: 0, 630: 0, 631: 1, 632: 0, 633: 0, 634: 0, 635: 0, 636: 0, 637: 0, 638: 0, 639: 0, 640: 0, 641: 0, 642: 0, 643: 0, 644: 0, 645: 0, 646: 0, 647: 0, 648: 0, 649: 0, 650: 0, 651: 0, 652: 0, 653: 0, 654: 3, 655: 0, 656: 0, 657: 0, 658: 0, 659: 0, 660: 1, 661: 0, 662: 1, 663: 0, 664: 0, 665: 0, 666: 0, 667: 0, 668: 1, 669: 1, 670: 0, 671: 0, 672: 0, 673: 0, 674: 0, 675: 0, 676: 0, 677: 1, 678: 0, 679: 1, 680: 0, 681: 1, 682: 0, 683: 0, 684: 0, 685: 0, 686: 0, 687: 0, 688: 0, 689: 1, 690: 1, 691: 0, 692: 1, 693: 0, 694: 1, 695: 0, 696: 0, 697: 0, 698: 0, 699: 0, 700: 0, 701: 1, 702: 1, 703: 0, 704: 1, 705: 1, 706: 0, 707: 0, 708: 2, 709: 0, 710: 0, 711: 0, 712: 0, 713: 1, 714: 0, 715: 0, 716: 0, 717: 0, 718: 1, 719: 0, 720: 0, 721: 0, 722: 0, 723: 0, 724: 0, 725: 0, 726: 0, 727: 0, 728: 0, 729: 0, 730: 0, 731: 0, 732: 0, 733: 0, 734: 1, 735: 0, 736: 0, 737: 0, 738: 0, 739: 0, 740: 0, 741: 0, 742: 1, 743: 0, 744: 0, 745: 0, 746: 0, 747: 0, 748: 0, 749: 0, 750: 0, 751: 0, 752: 0, 753: 0, 754: 0, 755: 1, 756: 0, 757: 0, 758: 0, 759: 0, 760: 1, 761: 0, 762: 0, 763: 0, 764: 0, 765: 0, 766: 0, 767: 1, 768: 1, 769: 1, 770: 0, 771: 1, 772: 0, 773: 0, 774: 0, 775: 0, 776: 1, 777: 0, 778: 0, 779: 0, 780: 0, 781: 0, 782: 0, 783: 0, 784: 0, 785: 0, 786: 1, 787: 0, 788: 0, 789: 0, 790: 0, 791: 0, 792: 1, 793: 0, 794: 0, 795: 1, 796: 0, 797: 0, 798: 0, 799: 0, 800: 0, 801: 0, 802: 0, 803: 0, 804: 0, 805: 0, 806: 0, 807: 0, 808: 0, 809: 0, 810: 1, 811: 0, 812: 0, 813: 1, 814: 0, 815: 0, 816: 0, 817: 0, 818: 0, 819: 0, 820: 0, 821: 1, 822: 0, 823: 0, 824: 0, 825: 1, 826: 0, 827: 0, 828: 0, 829: 0, 830: 0, 831: 1}\n"
     ]
    },
    {
     "data": {
      "image/png": "[encoded data removed]",
      "text/plain": [
       "<Figure size 640x480 with 1 Axes>"
      ]
     },
     "metadata": {},
     "output_type": "display_data"
    },
    {
     "name": "stdout",
     "output_type": "stream",
     "text": [
      "------------------------------------------------------------\n"
     ]
    }
   ],
   "source": [
    "\n",
    "import json\n",
    "from tqdm import tqdm\n",
    "from util import CityProperty, Property, City\n",
    "from sklearn.metrics import classification_report, precision_score\n",
    "from compute_threshold import create_similarity_mapping\n",
    "import matplotlib.pyplot as plt\n",
    "\n",
    "\n",
    "def test_per_city(prop_per_city: dict[str, dict[str, CityProperty]]):\n",
    "    pass\n",
    "\n",
    "\n",
    "def test_all_properties(similarity_mapping: dict[str, dict[str, float]]) -> None:\n",
    "    \"\"\"Uses the property embeddings to test the compute_metric function\"\"\"\n",
    "\n",
    "    positions = {idx: 0 for idx in range(1, len(similarity_mapping) + 1)}\n",
    "\n",
    "    for property_id, value in tqdm(similarity_mapping.items()):\n",
    "        # sort by embedding similarity\n",
    "        ordered = sorted(value, key=value.get)\n",
    "        position = ordered.index(property_id) + 1\n",
    "        positions[position] = positions.get(position, 0) + 1\n",
    "\n",
    "    print(positions)\n",
    "    plt.bar(\n",
    "        range(len(positions)),\n",
    "        list(positions.values()),\n",
    "        tick_label=list(positions.keys()),\n",
    "    )\n",
    "    plt.show()\n",
    "\n",
    "\n",
    "def main():\n",
    "    \"\"\"Tests the extracted word embeddings extracted from all-properties.json\"\"\"\n",
    "\n",
    "    with open(\"./data/all-properties-with-emb.json\", \"r\", encoding=\"utf-8\") as inp:\n",
    "        all_properties = json.load(inp)\n",
    "\n",
    "    try:\n",
    "        with open(\"./data/similarity-mappings.json\", \"r\", encoding=\"utf-8\") as inp:\n",
    "            similarity_mapping = json.load(inp)\n",
    "    except FileNotFoundError:\n",
    "        similarity_mapping = create_similarity_mapping(all_properties)\n",
    "        with open(\"./data/similarity-mappings.json\", \"w\", encoding=\"utf-8\") as out:\n",
    "            json.dump(similarity_mapping, out)\n",
    "\n",
    "    test_all_properties(similarity_mapping)\n",
    "    print(\"---\" * 20)\n",
    "    test_per_city(all_properties)\n",
    "\n",
    "\n",
    "if __name__ == \"__main__\":\n",
    "    main()\n"
   ]
  }
 ],
 "metadata": {
  "kernelspec": {
   "display_name": "env",
   "language": "python",
   "name": "python3"
  },
  "language_info": {
   "codemirror_mode": {
    "name": "ipython",
    "version": 3
   },
   "file_extension": ".py",
   "mimetype": "text/x-python",
   "name": "python",
   "nbconvert_exporter": "python",
   "pygments_lexer": "ipython3",
   "version": "3.10.12"
  }
 },
 "nbformat": 4,
 "nbformat_minor": 2
}
